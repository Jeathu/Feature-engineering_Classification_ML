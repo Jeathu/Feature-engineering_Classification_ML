{
 "cells": [
  {
   "cell_type": "markdown",
   "id": "6d0f7b01",
   "metadata": {},
   "source": [
    "<br>\n",
    "\n",
    "## **__# *Apprentissage supervisé : Feature engineering et Classification*__**\n",
    "   * L’objectif dans cette partie est de construire un bon classifieur sur un jeu de données de crédit scoring du fichier `\"credit_scoring.csv\"`.  "
   ]
  },
  {
   "cell_type": "code",
   "execution_count": 2,
   "id": "1d7a241e",
   "metadata": {
    "ExecuteTime": {
     "end_time": "2025-10-09T07:17:29.549257Z",
     "start_time": "2025-10-09T07:17:29.543043Z"
    }
   },
   "outputs": [],
   "source": [
    "#- Référance :\n",
    "     # https://www.youtube.com/watch?v=SrZ6vifbmdc\n",
    "     # https://blent.ai/blog/a/apprentissage-supervise-definition\n",
    "     # https://www.youtube.com/watch?v=Ps0y6w4cD_U\n",
    "\n",
    "\n",
    "import numpy as np \n",
    "np.set_printoptions(threshold=np.inf) \n",
    "import pandas as pd \n",
    "import warnings \n",
    "import matplotlib.pyplot as plt \n",
    "warnings.filterwarnings('ignore')"
   ]
  },
  {
   "cell_type": "markdown",
   "id": "1f8058f4",
   "metadata": {},
   "source": [
    "<br>\n",
    "<br>\n",
    "\n",
    "__- 1.1 Importer ce jeu de données avec la librairie pandas (c.f. read_csv)__"
   ]
  },
  {
   "cell_type": "code",
   "execution_count": 3,
   "id": "684d7270",
   "metadata": {
    "ExecuteTime": {
     "end_time": "2025-10-09T07:17:32.081728Z",
     "start_time": "2025-10-09T07:17:32.035628Z"
    }
   },
   "outputs": [
    {
     "name": "stdout",
     "output_type": "stream",
     "text": [
      "   Seniority  Home  Time   Age  Marital  Records  Job  Expenses  Income  \\\n",
      "0        9.0   1.0  60.0  30.0      0.0      1.0  1.0      73.0   129.0   \n",
      "1       17.0   1.0  60.0  58.0      1.0      1.0  0.0      48.0   131.0   \n",
      "2       10.0   0.0  36.0  46.0      0.0      2.0  1.0      90.0   200.0   \n",
      "3        0.0   1.0  60.0  24.0      1.0      1.0  0.0      63.0   182.0   \n",
      "4        0.0   1.0  36.0  26.0      1.0      1.0  0.0      46.0   107.0   \n",
      "5        1.0   0.0  60.0  36.0      0.0      1.0  0.0      75.0   214.0   \n",
      "6       29.0   0.0  60.0  44.0      0.0      1.0  0.0      75.0   125.0   \n",
      "7        9.0   1.0  12.0  27.0      1.0      1.0  0.0      35.0    80.0   \n",
      "8        0.0   0.0  60.0  32.0      0.0      1.0  1.0      90.0   107.0   \n",
      "9        0.0   1.0  48.0  41.0      0.0      1.0  1.0      90.0    80.0   \n",
      "\n",
      "    Assets  Debt  Amount   Price  Status  \n",
      "0      0.0   0.0   800.0   846.0       1  \n",
      "1      0.0   0.0  1000.0  1658.0       1  \n",
      "2   3000.0   0.0  2000.0  2985.0       0  \n",
      "3   2500.0   0.0   900.0  1325.0       1  \n",
      "4      0.0   0.0   310.0   910.0       1  \n",
      "5   3500.0   0.0   650.0  1645.0       1  \n",
      "6  10000.0   0.0  1600.0  1800.0       1  \n",
      "7      0.0   0.0   200.0  1093.0       1  \n",
      "8  15000.0   0.0  1200.0  1957.0       1  \n",
      "9      0.0   0.0  1200.0  1468.0       0  \n"
     ]
    }
   ],
   "source": [
    "\n",
    "df = pd.read_csv(\"credit_scoring.csv\", sep=\";\")\n",
    "print(df.head(10))\n"
   ]
  },
  {
   "cell_type": "markdown",
   "id": "70f68d9a",
   "metadata": {},
   "source": [
    "<br>\n",
    "<br>\n",
    "\n",
    "__- 1.2  Transformer votre jeu de données issue de pandas qui sera de type Data Frame en numpy Array  \n",
    "(c.f. values) et séparer ensuite les variables caractéristiques de la variable à prédire (status) en deux tableaux différents.__"
   ]
  },
  {
   "cell_type": "code",
   "execution_count": 4,
   "id": "ecc472e8",
   "metadata": {
    "ExecuteTime": {
     "end_time": "2025-10-09T07:17:35.649488Z",
     "start_time": "2025-10-09T07:17:35.084781Z"
    }
   },
   "outputs": [
    {
     "name": "stdout",
     "output_type": "stream",
     "text": [
      "[[9.000e+00 1.000e+00 6.000e+01 ... 8.000e+02 8.460e+02 1.000e+00]\n",
      " [1.700e+01 1.000e+00 6.000e+01 ... 1.000e+03 1.658e+03 1.000e+00]\n",
      " [1.000e+01 0.000e+00 3.600e+01 ... 2.000e+03 2.985e+03 0.000e+00]\n",
      " ...\n",
      " [0.000e+00 0.000e+00 2.400e+01 ... 5.000e+02 9.630e+02 0.000e+00]\n",
      " [0.000e+00 1.000e+00 4.800e+01 ... 5.500e+02 5.500e+02 1.000e+00]\n",
      " [5.000e+00 0.000e+00 6.000e+01 ... 1.350e+03 1.650e+03 1.000e+00]]\n"
     ]
    }
   ],
   "source": [
    "data = df.values # ou to_numpy()\n",
    "print(data)"
   ]
  },
  {
   "cell_type": "code",
   "execution_count": 5,
   "id": "a861b579",
   "metadata": {
    "ExecuteTime": {
     "end_time": "2025-10-08T22:50:15.756466Z",
     "start_time": "2025-10-08T22:50:15.741936Z"
    }
   },
   "outputs": [
    {
     "name": "stdout",
     "output_type": "stream",
     "text": [
      "\n",
      "Caractéristiques (x) :\n",
      "      Seniority  Home  Time   Age  Marital  Records  Job  Expenses  Income  \\\n",
      "0           9.0   1.0  60.0  30.0      0.0      1.0  1.0      73.0   129.0   \n",
      "1          17.0   1.0  60.0  58.0      1.0      1.0  0.0      48.0   131.0   \n",
      "2          10.0   0.0  36.0  46.0      0.0      2.0  1.0      90.0   200.0   \n",
      "3           0.0   1.0  60.0  24.0      1.0      1.0  0.0      63.0   182.0   \n",
      "4           0.0   1.0  36.0  26.0      1.0      1.0  0.0      46.0   107.0   \n",
      "...         ...   ...   ...   ...      ...      ...  ...       ...     ...   \n",
      "4370        1.0   1.0  60.0  39.0      0.0      1.0  0.0      69.0    92.0   \n",
      "4371       22.0   0.0  60.0  46.0      0.0      1.0  0.0      60.0    75.0   \n",
      "4372        0.0   0.0  24.0  37.0      0.0      1.0  1.0      60.0    90.0   \n",
      "4373        0.0   1.0  48.0  23.0      1.0      1.0  1.0      49.0   140.0   \n",
      "4374        5.0   0.0  60.0  32.0      0.0      1.0  1.0      60.0   140.0   \n",
      "\n",
      "      Assets    Debt  Amount   Price  \n",
      "0        0.0     0.0   800.0   846.0  \n",
      "1        0.0     0.0  1000.0  1658.0  \n",
      "2     3000.0     0.0  2000.0  2985.0  \n",
      "3     2500.0     0.0   900.0  1325.0  \n",
      "4        0.0     0.0   310.0   910.0  \n",
      "...      ...     ...     ...     ...  \n",
      "4370     0.0     0.0   900.0  1020.0  \n",
      "4371  3000.0   600.0   950.0  1263.0  \n",
      "4372  3500.0     0.0   500.0   963.0  \n",
      "4373     0.0     0.0   550.0   550.0  \n",
      "4374  4000.0  1000.0  1350.0  1650.0  \n",
      "\n",
      "[4375 rows x 13 columns]\n"
     ]
    }
   ],
   "source": [
    "\n",
    "x = df.drop(columns=['Status'])\n",
    "y = df['Status']\n",
    "\n",
    "print(\"\\nCaractéristiques (x) :\")\n",
    "print(x)"
   ]
  },
  {
   "cell_type": "code",
   "execution_count": 6,
   "id": "0b645277",
   "metadata": {},
   "outputs": [
    {
     "name": "stdout",
     "output_type": "stream",
     "text": [
      "\n",
      "Variable cible (y) :\n",
      "0       1\n",
      "1       1\n",
      "2       0\n",
      "3       1\n",
      "4       1\n",
      "       ..\n",
      "4370    0\n",
      "4371    1\n",
      "4372    0\n",
      "4373    1\n",
      "4374    1\n",
      "Name: Status, Length: 4375, dtype: int64\n"
     ]
    }
   ],
   "source": [
    "print(\"\\nVariable cible (y) :\")\n",
    "print(y)"
   ]
  },
  {
   "cell_type": "markdown",
   "id": "3d3cdabb",
   "metadata": {},
   "source": [
    "<br>\n",
    "<br>\n",
    "\n",
    "__- 1.3 Analyser les propriétés de vos données : taille de l’échantillon (c.f. shape), nombre d’exemples positifs et négatifs (c.f. hist).__\n"
   ]
  },
  {
   "cell_type": "code",
   "execution_count": 7,
   "id": "30997008",
   "metadata": {},
   "outputs": [
    {
     "name": "stdout",
     "output_type": "stream",
     "text": [
      "\n",
      "Taille de l’échantillon (lignes, colonnes) :\n",
      "(4375, 14)\n"
     ]
    }
   ],
   "source": [
    "tailleEchan = df.shape # Affichage de la taille de l'échantillon\n",
    "print(\"\\nTaille de l’échantillon (lignes, colonnes) :\")\n",
    "print(tailleEchan)"
   ]
  },
  {
   "cell_type": "code",
   "execution_count": 8,
   "id": "7b3dfd72",
   "metadata": {},
   "outputs": [
    {
     "name": "stdout",
     "output_type": "stream",
     "text": [
      "\n",
      "Nombre d’exemples positifs et négatifs :\n",
      "Status\n",
      "1    3159\n",
      "0    1216\n",
      "Name: count, dtype: int64\n",
      "Axes(0.125,0.11;0.775x0.77)\n"
     ]
    },
    {
     "data": {
      "image/png": "[encoded data removed]",
      "text/plain": [
       "<Figure size 640x480 with 1 Axes>"
      ]
     },
     "metadata": {},
     "output_type": "display_data"
    }
   ],
   "source": [
    "positfNegat = df['Status'].hist() # Affichage de l'histogramme\n",
    "posneg = df['Status'].value_counts() # Affichage du nombre d'exemples positifs et négatifs\n",
    "print(\"\\nNombre d’exemples positifs et négatifs :\")\n",
    "print(posneg)\n",
    "print(positfNegat)\n"
   ]
  },
  {
   "cell_type": "markdown",
   "id": "cafc03ef",
   "metadata": {},
   "source": [
    "<br>\n",
    "<br>\n",
    "\n",
    "__- 1.4) Pour éviter d’avoir un résultat biaisé du classifieur que nous allons construire, séparer les données en deux partie  \n",
    " une dite d’apprentissage qui servira à l’apprentissage du classifieur et l’autre dite de test qui servira à son évaluation (c.f train_test_split).__  \n"
   ]
  },
  {
   "cell_type": "code",
   "execution_count": 9,
   "id": "9703defb",
   "metadata": {},
   "outputs": [
    {
     "name": "stdout",
     "output_type": "stream",
     "text": [
      "1.7.2\n"
     ]
    }
   ],
   "source": [
    "import sklearn\n",
    "print(sklearn.__version__)\n"
   ]
  },
  {
   "cell_type": "code",
   "execution_count": 10,
   "id": "33d6a8e2",
   "metadata": {},
   "outputs": [
    {
     "name": "stdout",
     "output_type": "stream",
     "text": [
      "\n",
      "Données d’apprentissage (x_train) :\n",
      "      Seniority  Home  Time   Age  Marital  Records  Job  Expenses  Income  \\\n",
      "3918        2.0   1.0  60.0  20.0      1.0      1.0  0.0      35.0    56.0   \n",
      "1859        2.0   1.0  60.0  45.0      0.0      1.0  1.0      88.0   129.0   \n",
      "3200        1.0   1.0  60.0  23.0      1.0      1.0  0.0      35.0   100.0   \n",
      "31         14.0   1.0  24.0  51.0      0.0      1.0  1.0      75.0   198.0   \n",
      "3344        4.0   1.0  60.0  38.0      0.0      1.0  0.0      79.0   188.0   \n",
      "...         ...   ...   ...   ...      ...      ...  ...       ...     ...   \n",
      "3444        2.0   1.0  60.0  43.0      0.0      2.0  1.0      84.0    86.0   \n",
      "466         7.0   0.0  60.0  26.0      0.0      1.0  0.0      60.0   116.0   \n",
      "3092        2.0   0.0  48.0  57.0      0.0      2.0  0.0      45.0   200.0   \n",
      "3772        2.0   1.0  60.0  24.0      1.0      1.0  0.0      35.0   164.0   \n",
      "860        12.0   1.0  36.0  52.0      0.0      1.0  1.0      75.0     0.0   \n",
      "\n",
      "       Assets    Debt  Amount   Price  \n",
      "3918   3500.0     0.0  1300.0  1637.0  \n",
      "1859      0.0     0.0   850.0  1044.0  \n",
      "3200      0.0     0.0  1600.0  1642.0  \n",
      "31     1000.0     0.0   450.0   650.0  \n",
      "3344   3000.0  1500.0  1350.0  1624.0  \n",
      "...       ...     ...     ...     ...  \n",
      "3444      0.0     0.0  1650.0  1782.0  \n",
      "466    3000.0     0.0  1400.0  1460.0  \n",
      "3092  15000.0     0.0  1300.0  2700.0  \n",
      "3772      0.0     0.0   900.0  1516.0  \n",
      "860    3500.0     0.0   200.0  1240.0  \n",
      "\n",
      "[2931 rows x 13 columns]\n",
      "\n",
      "Données de test (x_test) :\n",
      "      Seniority  Home  Time   Age  Marital  Records  Job  Expenses  Income  \\\n",
      "3011        5.0   1.0  24.0  33.0      0.0      1.0  0.0      60.0   115.0   \n",
      "463         2.0   1.0  60.0  46.0      1.0      1.0  0.0      49.0   136.0   \n",
      "2580        1.0   1.0  36.0  33.0      0.0      1.0  0.0      35.0   200.0   \n",
      "1017       19.0   1.0  60.0  37.0      0.0      2.0  0.0      88.0   125.0   \n",
      "3805       20.0   0.0  36.0  37.0      0.0      2.0  0.0      60.0   150.0   \n",
      "...         ...   ...   ...   ...      ...      ...  ...       ...     ...   \n",
      "2640       10.0   0.0  60.0  27.0      0.0      1.0  1.0      35.0   180.0   \n",
      "883         0.0   1.0  36.0  49.0      0.0      2.0  1.0      75.0     0.0   \n",
      "1091        1.0   0.0  60.0  28.0      0.0      1.0  1.0      45.0   148.0   \n",
      "382         3.0   0.0  24.0  35.0      0.0      1.0  0.0      75.0   160.0   \n",
      "1675       26.0   1.0  48.0  60.0      0.0      1.0  0.0      45.0   134.0   \n",
      "\n",
      "      Assets    Debt  Amount   Price  \n",
      "3011     0.0     0.0   400.0  1600.0  \n",
      "463      0.0     0.0  1500.0  1687.0  \n",
      "2580     0.0     0.0   600.0  1580.0  \n",
      "1017     0.0     0.0   750.0   970.0  \n",
      "3805  3500.0     0.0   450.0   950.0  \n",
      "...      ...     ...     ...     ...  \n",
      "2640  8000.0  3530.0  1700.0  1847.0  \n",
      "883      0.0     0.0  2400.0  2800.0  \n",
      "1091  4500.0     0.0  1300.0  1695.0  \n",
      "382   1800.0     0.0   200.0   957.0  \n",
      "1675  4200.0  2000.0   700.0  2684.0  \n",
      "\n",
      "[1444 rows x 13 columns]\n"
     ]
    }
   ],
   "source": [
    "# Référance : \n",
    "       # https://scikit-learn.org/stable/modules/generated/sklearn.model_selection.train_test_split.html\n",
    "       # https://www.youtube.com/watch?v=dSCFk168vmo\n",
    "       # https://www.youtube.com/watch?v=NQifPki6tGE\n",
    "\n",
    "\n",
    "from sklearn.model_selection import train_test_split\n",
    "\n",
    "\n",
    "\n",
    "x_train, x_test, y_train, y_test = train_test_split(\n",
    "        x, y, test_size=0.33, random_state=42)\n",
    "\n",
    "print(\"\\nDonnées d’apprentissage (x_train) :\")\n",
    "print(x_train)\n",
    "print(\"\\nDonnées de test (x_test) :\")\n",
    "print(x_test)\n"
   ]
  },
  {
   "cell_type": "code",
   "execution_count": 11,
   "id": "4631b54a",
   "metadata": {},
   "outputs": [
    {
     "name": "stdout",
     "output_type": "stream",
     "text": [
      "\n",
      "Variable cible d’apprentissage (y_train) :\n",
      "3918    0\n",
      "1859    1\n",
      "3200    0\n",
      "31      1\n",
      "3344    0\n",
      "       ..\n",
      "3444    0\n",
      "466     1\n",
      "3092    1\n",
      "3772    1\n",
      "860     1\n",
      "Name: Status, Length: 2931, dtype: int64\n",
      "\n",
      "Variable cible de test (y_test) :\n",
      "3011    1\n",
      "463     0\n",
      "2580    1\n",
      "1017    1\n",
      "3805    1\n",
      "       ..\n",
      "2640    1\n",
      "883     0\n",
      "1091    1\n",
      "382     1\n",
      "1675    1\n",
      "Name: Status, Length: 1444, dtype: int64\n"
     ]
    }
   ],
   "source": [
    "print(\"\\nVariable cible d’apprentissage (y_train) :\")\n",
    "print(y_train)\n",
    "print(\"\\nVariable cible de test (y_test) :\")\n",
    "print(y_test)"
   ]
  },
  {
   "cell_type": "markdown",
   "id": "f0e62e8c",
   "metadata": {},
   "source": [
    "\n",
    "<br>\n",
    "<br>\n",
    "\n",
    "\n",
    "### __2. *Apprentissage  et  évaluation  de  modèles  :  Utiliser  ensuite  sur  votre  jeu  de  données  les  algorithmes d’apprentissage supervisé suivants* :__\n",
    "\n",
    "    • Un arbre CART (cart algorithm decision trees)\n",
    "    • k-plus-proches-voisins avec k=5\n",
    "\n",
    "\n",
    "__L’objectif est à présent de comparer les résultats obtenus à l’aide de ces deux simples algorithmes sur ce jeu de données.  \n",
    "Cette comparaison s’appuiera sur l’estimation de l’accuracy.__\n",
    "\n"
   ]
  },
  {
   "cell_type": "markdown",
   "id": "a41cba64",
   "metadata": {},
   "source": [
    "<br>\n",
    "\n",
    "__- Un arbre CART (cart algorithm decision trees)__"
   ]
  },
  {
   "cell_type": "code",
   "execution_count": 21,
   "id": "2b0b6b43",
   "metadata": {},
   "outputs": [
    {
     "name": "stdout",
     "output_type": "stream",
     "text": [
      "\n",
      "Accuracy :\n",
      "0.7222991689750693\n",
      "\n",
      "Matrice de confusion :\n",
      "[[194 203]\n",
      " [198 849]]\n",
      "\n",
      "Rapport de classification :\n",
      "              precision    recall  f1-score   support\n",
      "\n",
      "           0       0.49      0.49      0.49       397\n",
      "           1       0.81      0.81      0.81      1047\n",
      "\n",
      "    accuracy                           0.72      1444\n",
      "   macro avg       0.65      0.65      0.65      1444\n",
      "weighted avg       0.72      0.72      0.72      1444\n",
      "\n"
     ]
    }
   ],
   "source": [
    "\n",
    "# Référance : \n",
    "      # https://www.youtube.com/watch?v=zs6yHVtxyv8\n",
    "      # https://www.youtube.com/watch?v=WaIK3UjYWs0\n",
    "      # https://www.youtube.com/watch?v=2oiM3r-ciNg\n",
    "      # https://www.thepingouin.com/2024/10/15/implementation-dun-arbre-de-decision-cart-en-python-guide-complet-pour-debutants/\n",
    "      # https://medium.com/@kamilmatejuk/decision-trees-explained-f7cd940e23a5\n",
    "      # https://www.youtube.com/watch?v=JcI5E2Ng6r4\n",
    "      # https://www.youtube.com/watch?v=_L39rN6gz7Y\n",
    "\n",
    "\n",
    "\n",
    "\n",
    "from sklearn.tree import DecisionTreeClassifier\n",
    "from sklearn.metrics import accuracy_score, classification_report, confusion_matrix\n",
    "from sklearn.tree import plot_tree\n",
    "import matplotlib.pyplot as plt\n",
    "\n",
    "\n",
    "# Initialisation du classifieur\n",
    "model = DecisionTreeClassifier()\n",
    "# Apprentissage\n",
    "model.fit(x_train, y_train)\n",
    "# Prédiction\n",
    "y_pred = model.predict(x_test)\n",
    "\n",
    "\n",
    "# Evolution des performances\n",
    "print(\"\\nAccuracy :\")\n",
    "print(accuracy_score(y_test, y_pred))\n",
    "print(\"\\nMatrice de confusion :\")\n",
    "print(confusion_matrix(y_test, y_pred))\n",
    "print(\"\\nRapport de classification :\")\n",
    "print(classification_report(y_test, y_pred))\n",
    "\n",
    "\n"
   ]
  },
  {
   "cell_type": "markdown",
   "id": "0bdf3365",
   "metadata": {},
   "source": [
    "<br>\n",
    "<br>\n",
    "\n",
    "__- k-plus-proches-voisins avec k=5__"
   ]
  },
  {
   "cell_type": "code",
   "execution_count": 20,
   "id": "3231c965",
   "metadata": {
    "ExecuteTime": {
     "end_time": "2025-10-09T07:17:15.311194Z",
     "start_time": "2025-10-09T07:17:14.960190Z"
    }
   },
   "outputs": [
    {
     "name": "stdout",
     "output_type": "stream",
     "text": [
      "\n",
      "Accuracy :\n",
      "0.7202216066481995\n",
      "\n",
      "Matrice de confusion :\n",
      "[[124 273]\n",
      " [131 916]]\n",
      "\n",
      "Rapport de classification :\n",
      "              precision    recall  f1-score   support\n",
      "\n",
      "           0       0.49      0.31      0.38       397\n",
      "           1       0.77      0.87      0.82      1047\n",
      "\n",
      "    accuracy                           0.72      1444\n",
      "   macro avg       0.63      0.59      0.60      1444\n",
      "weighted avg       0.69      0.72      0.70      1444\n",
      "\n"
     ]
    }
   ],
   "source": [
    "# Référance : \n",
    "     # https://www.youtube.com/watch?v=-TA7orMJuJ4\n",
    "     # https://www.youtube.com/watch?v=hlHn7ZH8j8E\n",
    "     # https://www.youtube.com/watch?v=jw5LhTWUoG4\n",
    "     # https://medium.com/swlh/k-nearest-neighbor-ca2593d7a3c4\n",
    "     # https://www.youtube.com/watch?v=LOj9yGrgU4Y\n",
    "     # https://info.blaisepascal.fr/nsi-les-k-plus-proches-voisins/\n",
    "\n",
    "\n",
    "import matplotlib.pyplot as plt\n",
    "from sklearn.neighbors import KNeighborsClassifier\n",
    "\n",
    "\n",
    "# Initialisation du classifieur\n",
    "knn = KNeighborsClassifier(n_neighbors=5)\n",
    "# Apprentissage\n",
    "knn.fit(x_train, y_train)\n",
    "# Prédiction\n",
    "y_pred = knn.predict(x_test)\n",
    "\n",
    "\n",
    "# Evaluation des performances\n",
    "print(\"\\nAccuracy :\")\n",
    "print(accuracy_score(y_test, y_pred))\n",
    "print(\"\\nMatrice de confusion :\")\n",
    "print(confusion_matrix(y_test, y_pred))\n",
    "print(\"\\nRapport de classification :\")\n",
    "print(classification_report(y_test, y_pred))\n",
    "\n"
   ]
  },
  {
   "cell_type": "markdown",
   "id": "ce6de062",
   "metadata": {},
   "source": [
    "<br>\n",
    "<br>\n",
    "\n",
    "### __3. *Normalisation des  variables  continues  :*__ \n",
    "\n",
    "* Certains  algorithmes  d’apprentissage  supervisé  fonctionneront mieux si les données sont normalisées (`centrées autour de 0`) pour que toutes les variables caractéristiques auront  le  même  poids  dans  la  phase  d’apprentissage.  \n",
    "Utiliser  `le  module StandardScaler  de  Scikit-learn pour  normaliser  vos  données`. Vous  pouvez  également  tester  `le  module  MinMaxScaler`. Exécuter  à nouveau  votre  code  sur  vos  données  une  fois  normalisées.\n",
    "Interpréter  les  résultats  obtenus  en les comparant avec ceux de la question précédente.\n",
    "\n",
    "<br>\n",
    "\n",
    "__En Python (avec scikit-learn), il existe plusieurs méthodes pour mettre à l’échelle les variables continues :__\n",
    "\n",
    "- **`MinMaxScaler`** : effectue une mise à l’échelle dans un intervalle donné (ex. `[0, 1]`).\n",
    "- **`StandardScaler`** : effectue une **standardisation** (`centrage et réduction : moyenne = 0, écart-type = 1`),  \n",
    "aussi appelée *normalisation Z-score* dans certains contextes statistiques.\n",
    "\n",
    "<br>"
   ]
  },
  {
   "cell_type": "code",
   "execution_count": null,
   "id": "fd10ae0f",
   "metadata": {},
   "outputs": [],
   "source": [
    "from sklearn.tree import DecisionTreeClassifier\n",
    "from sklearn.neighbors import KNeighborsClassifier\n",
    "from sklearn.preprocessing import StandardScaler\n",
    "from sklearn.preprocessing import MinMaxScaler\n",
    "from sklearn.metrics import accuracy_score, confusion_matrix, classification_report\n",
    "\n",
    "\n",
    "\n",
    "# Fonction de arbre de décision CART\n",
    "def train_arbre_decision_cart(x_train,y_train):\n",
    "    model_dtc = DecisionTreeClassifier()\n",
    "    model_dtc.fit(x_train,y_train)\n",
    "    return model_dtc\n",
    "\n",
    "\n",
    "# Test de arbre de décision CART\n",
    "def test_arbre_decision_cart(x_test,y_test,model_dtc):\n",
    "    prediction_dtc = model_dtc.predict(x_test)\n",
    "\n",
    "    acc_dtc = accuracy_score(y_test,prediction_dtc)\n",
    "    matrice_confusion_dtc = confusion_matrix(y_test,prediction_dtc)\n",
    "    rapport_classification_dtc = classification_report(y_test,prediction_dtc)\n",
    "\n",
    "    print(f\"\\n- Score accuracy de l'arbre CART :\", acc_dtc)\n",
    "    print(f\"- Matrice de confusion de l'arbre CART :\\n\",matrice_confusion_dtc)\n",
    "    print(f\"- Rapport de classification de l'arbre CART :\\n\", rapport_classification_dtc)\n",
    "\n",
    "\n",
    "\n",
    "# Fonction de k-plus-proches-voisins\n",
    "def train_k_plus_proches(x_train,y_train):\n",
    "    model_knn = KNeighborsClassifier(n_neighbors=5)\n",
    "    model_knn.fit(x_train,y_train)\n",
    "    return model_knn\n",
    "\n",
    "\n",
    "# Test de k-plus-proches-voisins\n",
    "def test_k_plus_proches(x_test,y_test,model_knn):\n",
    "    prediction_knn = model_knn.predict(x_test)\n",
    "\n",
    "    acc_knn = accuracy_score(y_test,prediction_knn)\n",
    "    matrice_confusion_knn = confusion_matrix(y_test,prediction_knn)\n",
    "    rapport_classification_knn = classification_report(y_test,prediction_knn)\n",
    "\n",
    "    print(f\"\\n- Score accuracy de k-plus-proches-voisins :\", acc_knn)\n",
    "    print(f\"- Matrice de confusion de k-plus-proches-voisins :\\n\", matrice_confusion_knn)\n",
    "    print(f\"- Rapport de classification de k-plus-proches-voisins :\\n\", rapport_classification_knn)\n",
    "\n"
   ]
  },
  {
   "cell_type": "markdown",
   "id": "4c077f01",
   "metadata": {},
   "source": [
    "<br>\n",
    "<br>\n",
    "\n",
    "\n",
    "__# Sans normalisation__"
   ]
  },
  {
   "cell_type": "code",
   "execution_count": 15,
   "id": "30949811",
   "metadata": {},
   "outputs": [
    {
     "name": "stdout",
     "output_type": "stream",
     "text": [
      "\n",
      "Decision Tree sans normalisation :\n",
      "\n",
      "- Score accuracy de l'arbre CART : 0.721606648199446\n",
      "- Matrice de confusion de l'arbre CART :\n",
      " [[189 208]\n",
      " [194 853]]\n",
      "- Rapport de classification de l'arbre CART :\n",
      "               precision    recall  f1-score   support\n",
      "\n",
      "           0       0.49      0.48      0.48       397\n",
      "           1       0.80      0.81      0.81      1047\n",
      "\n",
      "    accuracy                           0.72      1444\n",
      "   macro avg       0.65      0.65      0.65      1444\n",
      "weighted avg       0.72      0.72      0.72      1444\n",
      "\n",
      "\n",
      "\n",
      "\n",
      "k-Plus Proches Voisins sans normalisation :\n",
      "\n",
      "- Score accuracy de k-plus-proches-voisins : 0.7202216066481995\n",
      "- Matrice de confusion de k-plus-proches-voisins :\n",
      " [[124 273]\n",
      " [131 916]]\n",
      "- Rapport de classification de k-plus-proches-voisins :\n",
      "               precision    recall  f1-score   support\n",
      "\n",
      "           0       0.49      0.31      0.38       397\n",
      "           1       0.77      0.87      0.82      1047\n",
      "\n",
      "    accuracy                           0.72      1444\n",
      "   macro avg       0.63      0.59      0.60      1444\n",
      "weighted avg       0.69      0.72      0.70      1444\n",
      "\n"
     ]
    }
   ],
   "source": [
    "\n",
    "print(\"\\nDecision Tree sans normalisation :\")\n",
    "train_model_dtc = train_arbre_decision_cart(x_train, y_train)\n",
    "test_arbre_decision_cart(x_test, y_test, train_model_dtc)\n",
    "\n",
    "\n",
    "print(\"\\n\\n\\nk-Plus Proches Voisins sans normalisation :\")\n",
    "train_model_knn = train_k_plus_proches(x_train, y_train)\n",
    "test_k_plus_proches(x_test, y_test, train_model_knn)"
   ]
  },
  {
   "cell_type": "markdown",
   "id": "a6af7004",
   "metadata": {},
   "source": [
    "<br>\n",
    "\n",
    "* Sans normalisation, l’arbre de décision a `une accuracy de 0,722`. Il prédit bien la classe majoritaire  \n",
    " `(f1-score 0,81)` mais moins la minoritaire `(f1-score 0,48)`, montrant sa robustesse aux échelles.\n",
    "\n",
    "* Le k-NN a une accuracy similaire `(0,720)` mais prédit mal la classe minoritaire `(f1-score 0,38)` et  \n",
    " bien la majoritaire `(f1-score 0,82)`, révélant sa sensibilité à l’absence de normalisation.\n",
    "\n",
    "* *Conclusion : `Sans normalisation, l’arbre de décision est légèrement meilleur et plus stable que k-NN`,  \n",
    " car ce dernier souffre du déséquilibre des échelles des variables.*"
   ]
  },
  {
   "cell_type": "markdown",
   "id": "bf42abeb",
   "metadata": {},
   "source": [
    "<br>\n",
    "<br>\n",
    "\n",
    "\n",
    "__# Normalistion avec StandardScaler__"
   ]
  },
  {
   "cell_type": "code",
   "execution_count": 16,
   "id": "7a56a9d4",
   "metadata": {},
   "outputs": [
    {
     "name": "stdout",
     "output_type": "stream",
     "text": [
      "\n",
      "### Avec normalisation StandardScaler ###\n",
      "\n",
      "- Score accuracy de l'arbre CART : 0.7091412742382271\n",
      "- Matrice de confusion de l'arbre CART :\n",
      " [[178 219]\n",
      " [201 846]]\n",
      "- Rapport de classification de l'arbre CART :\n",
      "               precision    recall  f1-score   support\n",
      "\n",
      "           0       0.47      0.45      0.46       397\n",
      "           1       0.79      0.81      0.80      1047\n",
      "\n",
      "    accuracy                           0.71      1444\n",
      "   macro avg       0.63      0.63      0.63      1444\n",
      "weighted avg       0.71      0.71      0.71      1444\n",
      "\n",
      "\n",
      "- Score accuracy de k-plus-proches-voisins : 0.7465373961218836\n",
      "- Matrice de confusion de k-plus-proches-voisins :\n",
      " [[177 220]\n",
      " [146 901]]\n",
      "- Rapport de classification de k-plus-proches-voisins :\n",
      "               precision    recall  f1-score   support\n",
      "\n",
      "           0       0.55      0.45      0.49       397\n",
      "           1       0.80      0.86      0.83      1047\n",
      "\n",
      "    accuracy                           0.75      1444\n",
      "   macro avg       0.68      0.65      0.66      1444\n",
      "weighted avg       0.73      0.75      0.74      1444\n",
      "\n"
     ]
    }
   ],
   "source": [
    "# Référance :\n",
    "      # https://scikit-learn.org/stable/modules/preprocessing.html\n",
    "      # https://inside-machinelearning.com/normaliser-donnees-2-minutes/\n",
    "      # https://www.geeksforgeeks.org/machine-learning/what-is-data-normalization/\n",
    "      # https://www.alliage-ad.com/tutoriels-python/les-methodes-de-normalisation/\n",
    "      # https://www.youtube.com/watch?v=bqhQ2LWBheQ\n",
    "\n",
    "\n",
    "\n",
    "\n",
    "# initialisation de Scaler\n",
    "scaler = StandardScaler()\n",
    "x_train_scaler = scaler.fit_transform(x_train)\n",
    "x_test_scaler = scaler.transform(x_test)\n",
    "\n",
    "print(\"\\n### Avec normalisation StandardScaler ###\")\n",
    "# Arbre de décision CART\n",
    "model_dtc_scaler = train_arbre_decision_cart(x_train_scaler,y_train)\n",
    "test_arbre_decision_cart(x_test_scaler,y_test,model_dtc_scaler)\n",
    "\n",
    "# k-Plus Proches Voisins\n",
    "model_knn_scaler = train_k_plus_proches(x_train_scaler,y_train)\n",
    "test_k_plus_proches(x_test_scaler,y_test,model_knn_scaler)\n",
    "\n"
   ]
  },
  {
   "cell_type": "markdown",
   "id": "76e7d58f",
   "metadata": {},
   "source": [
    "<br>\n",
    "\n",
    "* Avec StandardScaler, l’arbre de décision reste stable `(accuracy 0,709)`, prédominance pour la classe majoritaire  \n",
    " `(f1-score 0,80)` et faible détection de la minoritaire `(f1-score 0,46)`.\n",
    "\n",
    "* Le k-NN s’améliore `(accuracy 0,747)`, meilleure reconnaissance de la minoritaire `(f1-score 0,49)` et bonne pour la majoritaire  \n",
    " `(f1-score 0,83)`.__\n",
    "\n",
    "* *Conclusion : `k-NN bénéficie de la normalisation et dépasse l’arbre, qui reste stable`.*"
   ]
  },
  {
   "cell_type": "markdown",
   "id": "8e64829c",
   "metadata": {},
   "source": [
    "<br>\n",
    "<br>\n",
    "\n",
    "\n",
    "__# Normalistion avec MinMaxScaler__"
   ]
  },
  {
   "cell_type": "code",
   "execution_count": 17,
   "id": "cb63305d",
   "metadata": {},
   "outputs": [
    {
     "name": "stdout",
     "output_type": "stream",
     "text": [
      "\n",
      "### Avec normalisation MinMaxScaler ###\n",
      "\n",
      "- Score accuracy de l'arbre CART : 0.711218836565097\n",
      "- Matrice de confusion de l'arbre CART :\n",
      " [[183 214]\n",
      " [203 844]]\n",
      "- Rapport de classification de l'arbre CART :\n",
      "               precision    recall  f1-score   support\n",
      "\n",
      "           0       0.47      0.46      0.47       397\n",
      "           1       0.80      0.81      0.80      1047\n",
      "\n",
      "    accuracy                           0.71      1444\n",
      "   macro avg       0.64      0.63      0.63      1444\n",
      "weighted avg       0.71      0.71      0.71      1444\n",
      "\n",
      "\n",
      "- Score accuracy de k-plus-proches-voisins : 0.7423822714681441\n",
      "- Matrice de confusion de k-plus-proches-voisins :\n",
      " [[171 226]\n",
      " [146 901]]\n",
      "- Rapport de classification de k-plus-proches-voisins :\n",
      "               precision    recall  f1-score   support\n",
      "\n",
      "           0       0.54      0.43      0.48       397\n",
      "           1       0.80      0.86      0.83      1047\n",
      "\n",
      "    accuracy                           0.74      1444\n",
      "   macro avg       0.67      0.65      0.65      1444\n",
      "weighted avg       0.73      0.74      0.73      1444\n",
      "\n"
     ]
    }
   ],
   "source": [
    "# Référance :\n",
    "        # https://scikit-learn.org/stable/modules/generated/sklearn.preprocessing.MinMaxScaler.html\n",
    "        # https://inside-machinelearning.com/normaliser-donnees-2-minutes/\n",
    "        # https://www.geeksforgeeks.org/machine-learning/what-is-data-normalization/\n",
    "        # https://www.alliage-ad.com/tutoriels-python/les-methodes-de-normalisation/\n",
    "        # https://www.youtube.com/watch?v=bqhQ2LWBheQ\n",
    "\n",
    "\n",
    "\n",
    "# initialisation de MinMaxScaler\n",
    "scaler_minmax = MinMaxScaler()\n",
    "x_train_minmax = scaler_minmax.fit_transform(x_train)\n",
    "x_test_minmax = scaler_minmax.transform(x_test)\n",
    "\n",
    "print(\"\\n### Avec normalisation MinMaxScaler ###\")\n",
    "# Arbre de décision CART\n",
    "model_dtc_minmax = train_arbre_decision_cart(x_train_minmax,y_train)\n",
    "test_arbre_decision_cart(x_test_minmax,y_test,model_dtc_minmax)\n",
    "\n",
    "# k-Plus Proches Voisins\n",
    "model_knn_minmax = train_k_plus_proches(x_train_minmax,y_train)\n",
    "test_k_plus_proches(x_test_minmax,y_test,model_knn_minmax)\n"
   ]
  },
  {
   "cell_type": "markdown",
   "id": "2033b6fe",
   "metadata": {},
   "source": [
    "<br>\n",
    "\n",
    "\n",
    "* Avec MinMaxScaler, `l’arbre de décision reste stable (accuracy 0,711)`, prédominance pour la classe majoritaire  \n",
    " `(f1-score 0,80)` et faible détection de la minoritaire `(f1-score 0,47)`.\n",
    "\n",
    "* `Le k-NN s’améliore (accuracy 0,742)`, meilleure reconnaissance de la minoritaire `(f1-score 0,48)` et bonne pour  \n",
    " la majoritaire `(f1-score 0,83)`.\n",
    "\n",
    "* *Conclusion : `k-NN bénéficie de la normalisation et dépasse l’arbre, qui reste stable`.*"
   ]
  },
  {
   "cell_type": "markdown",
   "id": "1e70c7ce",
   "metadata": {},
   "source": [
    "<br>\n",
    "<br>\n",
    "\n",
    "#### __# Intrprétation finale__\n",
    "\n",
    "* La normalisation d’effet sur l’arbre de décision, dont `la performance reste stable autour de 71–72 %`, ce qui est logique puisqu’il ne dépend pas de l’échelle des variables. En revanche, k-NN gagne clairement en précision grâce à la normalisation, avec de meilleurs `résultats sous StandardScaler (74,7 %)` que sous `MinMaxScaler (74,2 %)`. Cela confirme que les algorithmes basés sur les distances nécessitent une mise à l’échelle des données, tandis que les arbres s’en passent très bien."
   ]
  }
 ],
 "metadata": {
  "kernelspec": {
   "display_name": "venv",
   "language": "python",
   "name": "python3"
  },
  "language_info": {
   "codemirror_mode": {
    "name": "ipython",
    "version": 3
   },
   "file_extension": ".py",
   "mimetype": "text/x-python",
   "name": "python",
   "nbconvert_exporter": "python",
   "pygments_lexer": "ipython3",
   "version": "3.11.9"
  }
 },
 "nbformat": 4,
 "nbformat_minor": 5
}
